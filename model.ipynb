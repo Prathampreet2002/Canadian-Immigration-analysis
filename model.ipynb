{
 "cells": [
  {
   "cell_type": "code",
   "id": "initial_id",
   "metadata": {
    "collapsed": true,
    "ExecuteTime": {
     "end_time": "2025-03-22T01:26:00.975174Z",
     "start_time": "2025-03-22T01:26:00.970165Z"
    }
   },
   "source": [
    "# Import required libraries\n",
    "import pandas as pd\n",
    "import numpy as np\n",
    "from sklearn.model_selection import train_test_split\n",
    "from sklearn.linear_model import LogisticRegression, Perceptron\n",
    "from sklearn.preprocessing import StandardScaler\n",
    "from sklearn.tree import DecisionTreeClassifier\n",
    "from sklearn.neighbors import KNeighborsClassifier\n",
    "from sklearn.naive_bayes import GaussianNB\n",
    "from sklearn.metrics import accuracy_score, precision_score, recall_score, f1_score"
   ],
   "outputs": [],
   "execution_count": 69
  },
  {
   "metadata": {
    "ExecuteTime": {
     "end_time": "2025-03-22T01:26:01.016941Z",
     "start_time": "2025-03-22T01:26:00.981393Z"
    }
   },
   "cell_type": "code",
   "source": [
    "# Load the dataset from the Excel file\n",
    "data_file = \"education_visa_countrywise_cleaned .xlsx\"  # Path to your Excel file\n",
    "data = pd.read_excel(data_file)\n",
    "\n",
    "# Define features (X) and target (y) based on the dataset\n",
    "# Replace 'target_column' with the actual name of your target column\n",
    "X = data.drop(columns=[\"Country of Citizenship\", \"2015\", \"2016\"])  # Drop target columns\n",
    "# Assuming 'data' is your DataFrame and you have two target columns '2015' and '2016'\n",
    "y = data[['2015', '2016']]\n",
    "\n",
    "# Split data into training and testing sets\n",
    "X_train, X_test, y_train, y_test = train_test_split(X, y, test_size=0.3, random_state=42)\n",
    "\n",
    "# Scale the features\n",
    "scaler = StandardScaler()\n",
    "X_train = scaler.fit_transform(X_train)\n",
    "X_test = scaler.transform(X_test)\n",
    "\n",
    "\n"
   ],
   "id": "46bbd2196528f48d",
   "outputs": [],
   "execution_count": 70
  },
  {
   "metadata": {
    "ExecuteTime": {
     "end_time": "2025-03-22T01:26:01.041912Z",
     "start_time": "2025-03-22T01:26:01.031120Z"
    }
   },
   "cell_type": "code",
   "source": [
    "# Define models (We'll use a MultiOutput classifier)\n",
    "from sklearn.multioutput import MultiOutputClassifier\n",
    "\n",
    "# Example: Using DecisionTreeClassifier for multi-target classification\n",
    "base_model = DecisionTreeClassifier()\n",
    "multi_target_model = MultiOutputClassifier(base_model)\n",
    "\n",
    "# Train the multi-target model\n",
    "multi_target_model.fit(X_train, y_train)\n",
    "\n",
    "# Evaluate the model\n",
    "y_pred = multi_target_model.predict(X_test)\n",
    "\n",
    "# Convert results to DataFrame for better readability\n",
    "y_test = pd.DataFrame(y_test, columns=[\"2015\", \"2016\"])\n",
    "y_pred = pd.DataFrame(y_pred, columns=[\"2015\", \"2016\"])\n",
    "\n",
    "# Compute accuracy (or other metrics per target column)\n",
    "from sklearn.metrics import accuracy_score\n",
    "\n",
    "results = {\"2015 Accuracy\": accuracy_score(y_test[\"2015\"], y_pred[\"2015\"]),\n",
    "           \"2016 Accuracy\": accuracy_score(y_test[\"2016\"], y_pred[\"2016\"])}\n",
    "print(\"Multi-target evaluation results:\", results)\n"
   ],
   "id": "e636803a98702116",
   "outputs": [
    {
     "name": "stdout",
     "output_type": "stream",
     "text": [
      "Multi-target evaluation results: {'2015 Accuracy': 0.125, '2016 Accuracy': 0.25}\n"
     ]
    }
   ],
   "execution_count": 71
  },
  {
   "metadata": {
    "ExecuteTime": {
     "end_time": "2025-03-22T01:26:01.071632Z",
     "start_time": "2025-03-22T01:26:01.055680Z"
    }
   },
   "cell_type": "code",
   "source": [
    "# Ensuring the target labels are converted from one-hot encoding \n",
    "if len(y_train.shape) > 1 and y_train.shape[1] > 1:  # One-hot encoded\n",
    "    y_train = np.argmax(y_train, axis=1)\n",
    "    y_test = np.argmax(y_test, axis=1)\n",
    "\n",
    "# Print shapes to confirm correctness\n",
    "print(f\"y_train shape: {y_train.shape}\")\n",
    "print(f\"y_test shape: {y_test.shape}\")\n",
    "\n",
    "# Define models\n",
    "models = {\n",
    "    \"Logistic Regression\": LogisticRegression(),\n",
    "    \"Perceptron\": Perceptron(),\n",
    "    \"Decision Tree\": DecisionTreeClassifier(),\n",
    "    \"Naive Bayes\": GaussianNB()\n",
    "}\n",
    "\n",
    "# Train and evaluate models\n",
    "results = []\n",
    "for name, model in models.items():  # Changed model to models\n",
    "    # Train the model\n",
    "    model.fit(X_train, y_train)\n",
    "\n",
    "    # Make predictions\n",
    "    y_pred = model.predict(X_test)\n",
    "\n",
    "    # Compute metrics\n",
    "    accuracy = accuracy_score(y_test, y_pred)\n",
    "    precision = precision_score(y_test, y_pred, average='weighted', zero_division=1)\n",
    "    recall = recall_score(y_test, y_pred, average='weighted')\n",
    "    f1 = f1_score(y_test, y_pred, average='weighted')\n",
    "\n",
    "    # Store results\n",
    "    results.append({\"Model\": name, \"Accuracy\": accuracy, \"Precision\": precision, \"Recall\": recall, \"F1-score\": f1})\n",
    "\n",
    "# Display results in a tabular format\n",
    "results_df = pd.DataFrame(results)\n",
    "print(results_df)"
   ],
   "id": "c439c4696e663710",
   "outputs": [
    {
     "name": "stdout",
     "output_type": "stream",
     "text": [
      "y_train shape: (92,)\n",
      "y_test shape: (40,)\n",
      "                 Model  Accuracy  Precision  Recall  F1-score\n",
      "0  Logistic Regression     0.750   0.815789   0.750  0.679654\n",
      "1           Perceptron     0.600   0.657576   0.600  0.616000\n",
      "2        Decision Tree     0.675   0.652688   0.675  0.660048\n",
      "3          Naive Bayes     0.525   0.816129   0.525  0.507982\n"
     ]
    }
   ],
   "execution_count": 72
  }
 ],
 "metadata": {
  "kernelspec": {
   "display_name": "Python 3",
   "language": "python",
   "name": "python3"
  },
  "language_info": {
   "codemirror_mode": {
    "name": "ipython",
    "version": 2
   },
   "file_extension": ".py",
   "mimetype": "text/x-python",
   "name": "python",
   "nbconvert_exporter": "python",
   "pygments_lexer": "ipython2",
   "version": "2.7.6"
  }
 },
 "nbformat": 4,
 "nbformat_minor": 5
}
